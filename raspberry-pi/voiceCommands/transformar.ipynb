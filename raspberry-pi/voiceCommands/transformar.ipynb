{
 "cells": [
  {
   "cell_type": "code",
   "execution_count": 1,
   "metadata": {},
   "outputs": [
    {
     "name": "stderr",
     "output_type": "stream",
     "text": [
      "c:\\Python312\\Lib\\site-packages\\keras\\src\\layers\\convolutional\\base_conv.py:107: UserWarning: Do not pass an `input_shape`/`input_dim` argument to a layer. When using Sequential models, prefer using an `Input(shape)` object as the first layer in the model instead.\n",
      "  super().__init__(activity_regularizer=activity_regularizer, **kwargs)\n",
      "WARNING:absl:Compiled the loaded model, but the compiled metrics have yet to be built. `model.compile_metrics` will be empty until you train or evaluate the model.\n",
      "WARNING:absl:Error in loading the saved optimizer state. As a result, your model is starting with a freshly initialized optimizer.\n"
     ]
    },
    {
     "name": "stdout",
     "output_type": "stream",
     "text": [
      "INFO:tensorflow:Assets written to: C:\\Users\\User\\AppData\\Local\\Temp\\tmp4dewp1ac\\assets\n"
     ]
    },
    {
     "name": "stderr",
     "output_type": "stream",
     "text": [
      "INFO:tensorflow:Assets written to: C:\\Users\\User\\AppData\\Local\\Temp\\tmp4dewp1ac\\assets\n"
     ]
    },
    {
     "name": "stdout",
     "output_type": "stream",
     "text": [
      "Saved artifact at 'C:\\Users\\User\\AppData\\Local\\Temp\\tmp4dewp1ac'. The following endpoints are available:\n",
      "\n",
      "* Endpoint 'serve'\n",
      "  args_0 (POSITIONAL_ONLY): TensorSpec(shape=(None, 128, 128, 1), dtype=tf.float32, name='conv2d_2_input')\n",
      "Output Type:\n",
      "  TensorSpec(shape=(None, 7), dtype=tf.float32, name=None)\n",
      "Captures:\n",
      "  2712753269136: TensorSpec(shape=(), dtype=tf.resource, name=None)\n",
      "  2712753270864: TensorSpec(shape=(), dtype=tf.resource, name=None)\n",
      "  2712753272976: TensorSpec(shape=(), dtype=tf.resource, name=None)\n",
      "  2712753273168: TensorSpec(shape=(), dtype=tf.resource, name=None)\n",
      "  2712753272400: TensorSpec(shape=(), dtype=tf.resource, name=None)\n",
      "  2712753272208: TensorSpec(shape=(), dtype=tf.resource, name=None)\n",
      "  2712753273552: TensorSpec(shape=(), dtype=tf.resource, name=None)\n",
      "  2712753274512: TensorSpec(shape=(), dtype=tf.resource, name=None)\n",
      "  2712755356112: TensorSpec(shape=(), dtype=tf.resource, name=None)\n",
      "  2712755355728: TensorSpec(shape=(), dtype=tf.resource, name=None)\n",
      "  2712755356304: TensorSpec(shape=(), dtype=tf.resource, name=None)\n",
      "  2712755355920: TensorSpec(shape=(), dtype=tf.resource, name=None)\n",
      "  2712755357456: TensorSpec(shape=(), dtype=tf.resource, name=None)\n",
      "  2712755358992: TensorSpec(shape=(), dtype=tf.resource, name=None)\n",
      "  2712755359760: TensorSpec(shape=(), dtype=tf.resource, name=None)\n",
      "  2712755356496: TensorSpec(shape=(), dtype=tf.resource, name=None)\n",
      "  2712755359952: TensorSpec(shape=(), dtype=tf.resource, name=None)\n",
      "  2712755359568: TensorSpec(shape=(), dtype=tf.resource, name=None)\n",
      "  2712755361680: TensorSpec(shape=(), dtype=tf.resource, name=None)\n",
      "  2712755362064: TensorSpec(shape=(), dtype=tf.resource, name=None)\n",
      "  2712755362640: TensorSpec(shape=(), dtype=tf.resource, name=None)\n",
      "  2712755361104: TensorSpec(shape=(), dtype=tf.resource, name=None)\n",
      "  2712755362832: TensorSpec(shape=(), dtype=tf.resource, name=None)\n",
      "  2712755361488: TensorSpec(shape=(), dtype=tf.resource, name=None)\n",
      "  2712755364944: TensorSpec(shape=(), dtype=tf.resource, name=None)\n",
      "  2712755366096: TensorSpec(shape=(), dtype=tf.resource, name=None)\n"
     ]
    }
   ],
   "source": [
    "import tensorflow as tf\n",
    "\n",
    "# Carregar o modelo Keras\n",
    "model = tf.keras.models.load_model('voice_command_modelV2.h5')\n",
    "\n",
    "# Converter para TensorFlow Lite\n",
    "converter = tf.lite.TFLiteConverter.from_keras_model(model)\n",
    "tflite_model = converter.convert()\n",
    "\n",
    "# Salvar o modelo convertido\n",
    "with open('voice_command_modelV2.tflite', 'wb') as f:\n",
    "    f.write(tflite_model)\n"
   ]
  }
 ],
 "metadata": {
  "kernelspec": {
   "display_name": "Python 3",
   "language": "python",
   "name": "python3"
  },
  "language_info": {
   "codemirror_mode": {
    "name": "ipython",
    "version": 3
   },
   "file_extension": ".py",
   "mimetype": "text/x-python",
   "name": "python",
   "nbconvert_exporter": "python",
   "pygments_lexer": "ipython3",
   "version": "3.12.4"
  }
 },
 "nbformat": 4,
 "nbformat_minor": 2
}
